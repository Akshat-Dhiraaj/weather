{
 "cells": [
  {
   "cell_type": "code",
   "execution_count": 1,
   "id": "f0f3a92a-1c7c-40e3-a56c-b1794feba055",
   "metadata": {},
   "outputs": [],
   "source": [
    "import numpy as np\n",
    "import pandas as pd\n",
    "import matplotlib.pyplot as plt\n",
    "import seaborn as sns\n",
    "%matplotlib inline"
   ]
  },
  {
   "cell_type": "code",
   "execution_count": 8,
   "id": "e9ebfb4d-fc75-477d-9b6e-43b7f139feee",
   "metadata": {},
   "outputs": [],
   "source": [
    "weather = pd.read_csv(\"Chennai_1990_2022_Madras.csv\",index_col = \"time\")"
   ]
  },
  {
   "cell_type": "code",
   "execution_count": 9,
   "id": "ed73e4a5-6f6a-422a-b5ac-fbe1bce1a2ef",
   "metadata": {},
   "outputs": [
    {
     "data": {
      "text/html": [
       "<div>\n",
       "<style scoped>\n",
       "    .dataframe tbody tr th:only-of-type {\n",
       "        vertical-align: middle;\n",
       "    }\n",
       "\n",
       "    .dataframe tbody tr th {\n",
       "        vertical-align: top;\n",
       "    }\n",
       "\n",
       "    .dataframe thead th {\n",
       "        text-align: right;\n",
       "    }\n",
       "</style>\n",
       "<table border=\"1\" class=\"dataframe\">\n",
       "  <thead>\n",
       "    <tr style=\"text-align: right;\">\n",
       "      <th></th>\n",
       "      <th>tavg</th>\n",
       "      <th>tmin</th>\n",
       "      <th>tmax</th>\n",
       "      <th>prcp</th>\n",
       "    </tr>\n",
       "    <tr>\n",
       "      <th>time</th>\n",
       "      <th></th>\n",
       "      <th></th>\n",
       "      <th></th>\n",
       "      <th></th>\n",
       "    </tr>\n",
       "  </thead>\n",
       "  <tbody>\n",
       "    <tr>\n",
       "      <th>01-01-1990</th>\n",
       "      <td>25.2</td>\n",
       "      <td>22.8</td>\n",
       "      <td>28.4</td>\n",
       "      <td>0.5</td>\n",
       "    </tr>\n",
       "    <tr>\n",
       "      <th>02-01-1990</th>\n",
       "      <td>24.9</td>\n",
       "      <td>21.7</td>\n",
       "      <td>29.1</td>\n",
       "      <td>0.0</td>\n",
       "    </tr>\n",
       "    <tr>\n",
       "      <th>03-01-1990</th>\n",
       "      <td>25.6</td>\n",
       "      <td>21.4</td>\n",
       "      <td>29.8</td>\n",
       "      <td>0.0</td>\n",
       "    </tr>\n",
       "    <tr>\n",
       "      <th>04-01-1990</th>\n",
       "      <td>25.7</td>\n",
       "      <td>NaN</td>\n",
       "      <td>28.7</td>\n",
       "      <td>0.0</td>\n",
       "    </tr>\n",
       "    <tr>\n",
       "      <th>05-01-1990</th>\n",
       "      <td>25.5</td>\n",
       "      <td>20.7</td>\n",
       "      <td>28.4</td>\n",
       "      <td>0.0</td>\n",
       "    </tr>\n",
       "    <tr>\n",
       "      <th>...</th>\n",
       "      <td>...</td>\n",
       "      <td>...</td>\n",
       "      <td>...</td>\n",
       "      <td>...</td>\n",
       "    </tr>\n",
       "    <tr>\n",
       "      <th>21-07-2022</th>\n",
       "      <td>28.4</td>\n",
       "      <td>24.5</td>\n",
       "      <td>32.8</td>\n",
       "      <td>21.1</td>\n",
       "    </tr>\n",
       "    <tr>\n",
       "      <th>22-07-2022</th>\n",
       "      <td>27.8</td>\n",
       "      <td>24.6</td>\n",
       "      <td>32.2</td>\n",
       "      <td>22.1</td>\n",
       "    </tr>\n",
       "    <tr>\n",
       "      <th>23-07-2022</th>\n",
       "      <td>27.4</td>\n",
       "      <td>24.7</td>\n",
       "      <td>32.6</td>\n",
       "      <td>18.6</td>\n",
       "    </tr>\n",
       "    <tr>\n",
       "      <th>24-07-2022</th>\n",
       "      <td>27.8</td>\n",
       "      <td>25.0</td>\n",
       "      <td>33.3</td>\n",
       "      <td>9.1</td>\n",
       "    </tr>\n",
       "    <tr>\n",
       "      <th>25-07-2022</th>\n",
       "      <td>28.1</td>\n",
       "      <td>25.4</td>\n",
       "      <td>32.6</td>\n",
       "      <td>2.9</td>\n",
       "    </tr>\n",
       "  </tbody>\n",
       "</table>\n",
       "<p>11894 rows × 4 columns</p>\n",
       "</div>"
      ],
      "text/plain": [
       "            tavg  tmin  tmax  prcp\n",
       "time                              \n",
       "01-01-1990  25.2  22.8  28.4   0.5\n",
       "02-01-1990  24.9  21.7  29.1   0.0\n",
       "03-01-1990  25.6  21.4  29.8   0.0\n",
       "04-01-1990  25.7   NaN  28.7   0.0\n",
       "05-01-1990  25.5  20.7  28.4   0.0\n",
       "...          ...   ...   ...   ...\n",
       "21-07-2022  28.4  24.5  32.8  21.1\n",
       "22-07-2022  27.8  24.6  32.2  22.1\n",
       "23-07-2022  27.4  24.7  32.6  18.6\n",
       "24-07-2022  27.8  25.0  33.3   9.1\n",
       "25-07-2022  28.1  25.4  32.6   2.9\n",
       "\n",
       "[11894 rows x 4 columns]"
      ]
     },
     "execution_count": 9,
     "metadata": {},
     "output_type": "execute_result"
    }
   ],
   "source": [
    "weather"
   ]
  },
  {
   "cell_type": "code",
   "execution_count": 10,
   "id": "5799dd3f-d993-4acf-a3b7-e4b4efd571e7",
   "metadata": {},
   "outputs": [
    {
     "data": {
      "text/html": [
       "<div>\n",
       "<style scoped>\n",
       "    .dataframe tbody tr th:only-of-type {\n",
       "        vertical-align: middle;\n",
       "    }\n",
       "\n",
       "    .dataframe tbody tr th {\n",
       "        vertical-align: top;\n",
       "    }\n",
       "\n",
       "    .dataframe thead th {\n",
       "        text-align: right;\n",
       "    }\n",
       "</style>\n",
       "<table border=\"1\" class=\"dataframe\">\n",
       "  <thead>\n",
       "    <tr style=\"text-align: right;\">\n",
       "      <th></th>\n",
       "      <th>tavg</th>\n",
       "      <th>tmin</th>\n",
       "      <th>tmax</th>\n",
       "      <th>prcp</th>\n",
       "    </tr>\n",
       "    <tr>\n",
       "      <th>time</th>\n",
       "      <th></th>\n",
       "      <th></th>\n",
       "      <th></th>\n",
       "      <th></th>\n",
       "    </tr>\n",
       "  </thead>\n",
       "  <tbody>\n",
       "    <tr>\n",
       "      <th>01-01-1990</th>\n",
       "      <td>False</td>\n",
       "      <td>False</td>\n",
       "      <td>False</td>\n",
       "      <td>False</td>\n",
       "    </tr>\n",
       "    <tr>\n",
       "      <th>02-01-1990</th>\n",
       "      <td>False</td>\n",
       "      <td>False</td>\n",
       "      <td>False</td>\n",
       "      <td>False</td>\n",
       "    </tr>\n",
       "    <tr>\n",
       "      <th>03-01-1990</th>\n",
       "      <td>False</td>\n",
       "      <td>False</td>\n",
       "      <td>False</td>\n",
       "      <td>False</td>\n",
       "    </tr>\n",
       "    <tr>\n",
       "      <th>04-01-1990</th>\n",
       "      <td>False</td>\n",
       "      <td>True</td>\n",
       "      <td>False</td>\n",
       "      <td>False</td>\n",
       "    </tr>\n",
       "    <tr>\n",
       "      <th>05-01-1990</th>\n",
       "      <td>False</td>\n",
       "      <td>False</td>\n",
       "      <td>False</td>\n",
       "      <td>False</td>\n",
       "    </tr>\n",
       "    <tr>\n",
       "      <th>...</th>\n",
       "      <td>...</td>\n",
       "      <td>...</td>\n",
       "      <td>...</td>\n",
       "      <td>...</td>\n",
       "    </tr>\n",
       "    <tr>\n",
       "      <th>21-07-2022</th>\n",
       "      <td>False</td>\n",
       "      <td>False</td>\n",
       "      <td>False</td>\n",
       "      <td>False</td>\n",
       "    </tr>\n",
       "    <tr>\n",
       "      <th>22-07-2022</th>\n",
       "      <td>False</td>\n",
       "      <td>False</td>\n",
       "      <td>False</td>\n",
       "      <td>False</td>\n",
       "    </tr>\n",
       "    <tr>\n",
       "      <th>23-07-2022</th>\n",
       "      <td>False</td>\n",
       "      <td>False</td>\n",
       "      <td>False</td>\n",
       "      <td>False</td>\n",
       "    </tr>\n",
       "    <tr>\n",
       "      <th>24-07-2022</th>\n",
       "      <td>False</td>\n",
       "      <td>False</td>\n",
       "      <td>False</td>\n",
       "      <td>False</td>\n",
       "    </tr>\n",
       "    <tr>\n",
       "      <th>25-07-2022</th>\n",
       "      <td>False</td>\n",
       "      <td>False</td>\n",
       "      <td>False</td>\n",
       "      <td>False</td>\n",
       "    </tr>\n",
       "  </tbody>\n",
       "</table>\n",
       "<p>11894 rows × 4 columns</p>\n",
       "</div>"
      ],
      "text/plain": [
       "             tavg   tmin   tmax   prcp\n",
       "time                                  \n",
       "01-01-1990  False  False  False  False\n",
       "02-01-1990  False  False  False  False\n",
       "03-01-1990  False  False  False  False\n",
       "04-01-1990  False   True  False  False\n",
       "05-01-1990  False  False  False  False\n",
       "...           ...    ...    ...    ...\n",
       "21-07-2022  False  False  False  False\n",
       "22-07-2022  False  False  False  False\n",
       "23-07-2022  False  False  False  False\n",
       "24-07-2022  False  False  False  False\n",
       "25-07-2022  False  False  False  False\n",
       "\n",
       "[11894 rows x 4 columns]"
      ]
     },
     "execution_count": 10,
     "metadata": {},
     "output_type": "execute_result"
    }
   ],
   "source": [
    "#looks for all the null values\n",
    "weather.apply(pd.isnull)"
   ]
  },
  {
   "cell_type": "code",
   "execution_count": 11,
   "id": "4d46b58c-a3cc-4889-943d-73a5832bca62",
   "metadata": {},
   "outputs": [
    {
     "data": {
      "text/plain": [
       "tavg    0.002270\n",
       "tmin    0.259290\n",
       "tmax    0.085673\n",
       "prcp    0.410795\n",
       "dtype: float64"
      ]
     },
     "execution_count": 11,
     "metadata": {},
     "output_type": "execute_result"
    }
   ],
   "source": [
    "#gives % of each value in columns\n",
    "weather.apply(pd.isnull).sum()/weather.shape[0]"
   ]
  },
  {
   "cell_type": "code",
   "execution_count": 12,
   "id": "9d2e31bc-6e5c-4609-9fae-dc93c46d73c4",
   "metadata": {},
   "outputs": [
    {
     "data": {
      "text/html": [
       "<div>\n",
       "<style scoped>\n",
       "    .dataframe tbody tr th:only-of-type {\n",
       "        vertical-align: middle;\n",
       "    }\n",
       "\n",
       "    .dataframe tbody tr th {\n",
       "        vertical-align: top;\n",
       "    }\n",
       "\n",
       "    .dataframe thead th {\n",
       "        text-align: right;\n",
       "    }\n",
       "</style>\n",
       "<table border=\"1\" class=\"dataframe\">\n",
       "  <thead>\n",
       "    <tr style=\"text-align: right;\">\n",
       "      <th></th>\n",
       "      <th>tavg</th>\n",
       "      <th>tmin</th>\n",
       "      <th>tmax</th>\n",
       "      <th>prcp</th>\n",
       "    </tr>\n",
       "    <tr>\n",
       "      <th>time</th>\n",
       "      <th></th>\n",
       "      <th></th>\n",
       "      <th></th>\n",
       "      <th></th>\n",
       "    </tr>\n",
       "  </thead>\n",
       "  <tbody>\n",
       "    <tr>\n",
       "      <th>19-02-1990</th>\n",
       "      <td>28.0</td>\n",
       "      <td>25.2</td>\n",
       "      <td>32.6</td>\n",
       "      <td>NaN</td>\n",
       "    </tr>\n",
       "    <tr>\n",
       "      <th>09-03-1990</th>\n",
       "      <td>27.6</td>\n",
       "      <td>25.2</td>\n",
       "      <td>32.4</td>\n",
       "      <td>NaN</td>\n",
       "    </tr>\n",
       "    <tr>\n",
       "      <th>10-03-1990</th>\n",
       "      <td>27.2</td>\n",
       "      <td>24.4</td>\n",
       "      <td>29.8</td>\n",
       "      <td>NaN</td>\n",
       "    </tr>\n",
       "    <tr>\n",
       "      <th>11-03-1990</th>\n",
       "      <td>26.3</td>\n",
       "      <td>23.5</td>\n",
       "      <td>30.7</td>\n",
       "      <td>NaN</td>\n",
       "    </tr>\n",
       "    <tr>\n",
       "      <th>19-03-1990</th>\n",
       "      <td>28.1</td>\n",
       "      <td>22.9</td>\n",
       "      <td>32.4</td>\n",
       "      <td>NaN</td>\n",
       "    </tr>\n",
       "    <tr>\n",
       "      <th>...</th>\n",
       "      <td>...</td>\n",
       "      <td>...</td>\n",
       "      <td>...</td>\n",
       "      <td>...</td>\n",
       "    </tr>\n",
       "    <tr>\n",
       "      <th>28-12-2020</th>\n",
       "      <td>26.5</td>\n",
       "      <td>21.0</td>\n",
       "      <td>30.0</td>\n",
       "      <td>NaN</td>\n",
       "    </tr>\n",
       "    <tr>\n",
       "      <th>29-12-2020</th>\n",
       "      <td>27.1</td>\n",
       "      <td>23.4</td>\n",
       "      <td>30.0</td>\n",
       "      <td>NaN</td>\n",
       "    </tr>\n",
       "    <tr>\n",
       "      <th>30-12-2020</th>\n",
       "      <td>27.2</td>\n",
       "      <td>24.0</td>\n",
       "      <td>29.4</td>\n",
       "      <td>NaN</td>\n",
       "    </tr>\n",
       "    <tr>\n",
       "      <th>31-12-2020</th>\n",
       "      <td>27.1</td>\n",
       "      <td>25.0</td>\n",
       "      <td>30.0</td>\n",
       "      <td>NaN</td>\n",
       "    </tr>\n",
       "    <tr>\n",
       "      <th>26-05-2022</th>\n",
       "      <td>31.5</td>\n",
       "      <td>28.0</td>\n",
       "      <td>39.0</td>\n",
       "      <td>NaN</td>\n",
       "    </tr>\n",
       "  </tbody>\n",
       "</table>\n",
       "<p>4886 rows × 4 columns</p>\n",
       "</div>"
      ],
      "text/plain": [
       "            tavg  tmin  tmax  prcp\n",
       "time                              \n",
       "19-02-1990  28.0  25.2  32.6   NaN\n",
       "09-03-1990  27.6  25.2  32.4   NaN\n",
       "10-03-1990  27.2  24.4  29.8   NaN\n",
       "11-03-1990  26.3  23.5  30.7   NaN\n",
       "19-03-1990  28.1  22.9  32.4   NaN\n",
       "...          ...   ...   ...   ...\n",
       "28-12-2020  26.5  21.0  30.0   NaN\n",
       "29-12-2020  27.1  23.4  30.0   NaN\n",
       "30-12-2020  27.2  24.0  29.4   NaN\n",
       "31-12-2020  27.1  25.0  30.0   NaN\n",
       "26-05-2022  31.5  28.0  39.0   NaN\n",
       "\n",
       "[4886 rows x 4 columns]"
      ]
     },
     "execution_count": 12,
     "metadata": {},
     "output_type": "execute_result"
    }
   ],
   "source": [
    "weather[pd.isnull(weather[\"prcp\"])]"
   ]
  },
  {
   "cell_type": "code",
   "execution_count": 13,
   "id": "265c6500-d68c-47f7-9b63-7cbbab359ecc",
   "metadata": {},
   "outputs": [
    {
     "data": {
      "text/plain": [
       "0.0      4149\n",
       "0.5       247\n",
       "0.3       222\n",
       "1.0       163\n",
       "2.0       143\n",
       "         ... \n",
       "278.9       1\n",
       "17.3        1\n",
       "61.5        1\n",
       "79.0        1\n",
       "18.6        1\n",
       "Name: prcp, Length: 337, dtype: int64"
      ]
     },
     "execution_count": 13,
     "metadata": {},
     "output_type": "execute_result"
    }
   ],
   "source": [
    "weather[\"prcp\"].value_counts()"
   ]
  },
  {
   "cell_type": "code",
   "execution_count": 14,
   "id": "a64891d2-019b-4b11-a9d1-e70d0d51c9ac",
   "metadata": {},
   "outputs": [],
   "source": [
    "weather[\"prcp\"] = weather[\"prcp\"].fillna(0)"
   ]
  },
  {
   "cell_type": "code",
   "execution_count": 15,
   "id": "949728f3-fb5d-4167-a17d-458152dfaf8d",
   "metadata": {},
   "outputs": [
    {
     "data": {
      "text/html": [
       "<div>\n",
       "<style scoped>\n",
       "    .dataframe tbody tr th:only-of-type {\n",
       "        vertical-align: middle;\n",
       "    }\n",
       "\n",
       "    .dataframe tbody tr th {\n",
       "        vertical-align: top;\n",
       "    }\n",
       "\n",
       "    .dataframe thead th {\n",
       "        text-align: right;\n",
       "    }\n",
       "</style>\n",
       "<table border=\"1\" class=\"dataframe\">\n",
       "  <thead>\n",
       "    <tr style=\"text-align: right;\">\n",
       "      <th></th>\n",
       "      <th>tavg</th>\n",
       "      <th>tmin</th>\n",
       "      <th>tmax</th>\n",
       "      <th>prcp</th>\n",
       "    </tr>\n",
       "    <tr>\n",
       "      <th>time</th>\n",
       "      <th></th>\n",
       "      <th></th>\n",
       "      <th></th>\n",
       "      <th></th>\n",
       "    </tr>\n",
       "  </thead>\n",
       "  <tbody>\n",
       "    <tr>\n",
       "      <th>29-01-1990</th>\n",
       "      <td>23.9</td>\n",
       "      <td>20.2</td>\n",
       "      <td>NaN</td>\n",
       "      <td>0.0</td>\n",
       "    </tr>\n",
       "    <tr>\n",
       "      <th>04-02-1990</th>\n",
       "      <td>24.3</td>\n",
       "      <td>NaN</td>\n",
       "      <td>NaN</td>\n",
       "      <td>31.0</td>\n",
       "    </tr>\n",
       "    <tr>\n",
       "      <th>05-02-1990</th>\n",
       "      <td>25.3</td>\n",
       "      <td>18.9</td>\n",
       "      <td>NaN</td>\n",
       "      <td>0.0</td>\n",
       "    </tr>\n",
       "    <tr>\n",
       "      <th>13-02-1990</th>\n",
       "      <td>26.3</td>\n",
       "      <td>NaN</td>\n",
       "      <td>NaN</td>\n",
       "      <td>0.0</td>\n",
       "    </tr>\n",
       "    <tr>\n",
       "      <th>15-02-1990</th>\n",
       "      <td>27.9</td>\n",
       "      <td>NaN</td>\n",
       "      <td>NaN</td>\n",
       "      <td>0.0</td>\n",
       "    </tr>\n",
       "    <tr>\n",
       "      <th>...</th>\n",
       "      <td>...</td>\n",
       "      <td>...</td>\n",
       "      <td>...</td>\n",
       "      <td>...</td>\n",
       "    </tr>\n",
       "    <tr>\n",
       "      <th>02-02-2018</th>\n",
       "      <td>25.1</td>\n",
       "      <td>17.6</td>\n",
       "      <td>NaN</td>\n",
       "      <td>0.0</td>\n",
       "    </tr>\n",
       "    <tr>\n",
       "      <th>27-03-2018</th>\n",
       "      <td>29.8</td>\n",
       "      <td>24.4</td>\n",
       "      <td>NaN</td>\n",
       "      <td>0.0</td>\n",
       "    </tr>\n",
       "    <tr>\n",
       "      <th>23-04-2018</th>\n",
       "      <td>31.9</td>\n",
       "      <td>27.7</td>\n",
       "      <td>NaN</td>\n",
       "      <td>0.0</td>\n",
       "    </tr>\n",
       "    <tr>\n",
       "      <th>28-05-2018</th>\n",
       "      <td>32.9</td>\n",
       "      <td>28.6</td>\n",
       "      <td>NaN</td>\n",
       "      <td>0.0</td>\n",
       "    </tr>\n",
       "    <tr>\n",
       "      <th>28-06-2018</th>\n",
       "      <td>31.2</td>\n",
       "      <td>26.9</td>\n",
       "      <td>NaN</td>\n",
       "      <td>0.0</td>\n",
       "    </tr>\n",
       "  </tbody>\n",
       "</table>\n",
       "<p>1019 rows × 4 columns</p>\n",
       "</div>"
      ],
      "text/plain": [
       "            tavg  tmin  tmax  prcp\n",
       "time                              \n",
       "29-01-1990  23.9  20.2   NaN   0.0\n",
       "04-02-1990  24.3   NaN   NaN  31.0\n",
       "05-02-1990  25.3  18.9   NaN   0.0\n",
       "13-02-1990  26.3   NaN   NaN   0.0\n",
       "15-02-1990  27.9   NaN   NaN   0.0\n",
       "...          ...   ...   ...   ...\n",
       "02-02-2018  25.1  17.6   NaN   0.0\n",
       "27-03-2018  29.8  24.4   NaN   0.0\n",
       "23-04-2018  31.9  27.7   NaN   0.0\n",
       "28-05-2018  32.9  28.6   NaN   0.0\n",
       "28-06-2018  31.2  26.9   NaN   0.0\n",
       "\n",
       "[1019 rows x 4 columns]"
      ]
     },
     "execution_count": 15,
     "metadata": {},
     "output_type": "execute_result"
    }
   ],
   "source": [
    "weather[pd.isnull(weather[\"tmax\"])]"
   ]
  },
  {
   "cell_type": "code",
   "execution_count": 16,
   "id": "b454059a-b15b-4952-bcf1-a575ee178b3c",
   "metadata": {},
   "outputs": [],
   "source": [
    "weather = weather.fillna(method=\"ffill\")"
   ]
  },
  {
   "cell_type": "code",
   "execution_count": 17,
   "id": "398b2815-bafd-4eb1-9e11-9015b08bd4db",
   "metadata": {},
   "outputs": [
    {
     "data": {
      "text/html": [
       "<div>\n",
       "<style scoped>\n",
       "    .dataframe tbody tr th:only-of-type {\n",
       "        vertical-align: middle;\n",
       "    }\n",
       "\n",
       "    .dataframe tbody tr th {\n",
       "        vertical-align: top;\n",
       "    }\n",
       "\n",
       "    .dataframe thead th {\n",
       "        text-align: right;\n",
       "    }\n",
       "</style>\n",
       "<table border=\"1\" class=\"dataframe\">\n",
       "  <thead>\n",
       "    <tr style=\"text-align: right;\">\n",
       "      <th></th>\n",
       "      <th>tavg</th>\n",
       "      <th>tmin</th>\n",
       "      <th>tmax</th>\n",
       "      <th>prcp</th>\n",
       "    </tr>\n",
       "    <tr>\n",
       "      <th>time</th>\n",
       "      <th></th>\n",
       "      <th></th>\n",
       "      <th></th>\n",
       "      <th></th>\n",
       "    </tr>\n",
       "  </thead>\n",
       "  <tbody>\n",
       "    <tr>\n",
       "      <th>01-01-1990</th>\n",
       "      <td>25.2</td>\n",
       "      <td>22.8</td>\n",
       "      <td>28.4</td>\n",
       "      <td>0.5</td>\n",
       "    </tr>\n",
       "    <tr>\n",
       "      <th>02-01-1990</th>\n",
       "      <td>24.9</td>\n",
       "      <td>21.7</td>\n",
       "      <td>29.1</td>\n",
       "      <td>0.0</td>\n",
       "    </tr>\n",
       "    <tr>\n",
       "      <th>03-01-1990</th>\n",
       "      <td>25.6</td>\n",
       "      <td>21.4</td>\n",
       "      <td>29.8</td>\n",
       "      <td>0.0</td>\n",
       "    </tr>\n",
       "    <tr>\n",
       "      <th>04-01-1990</th>\n",
       "      <td>25.7</td>\n",
       "      <td>21.4</td>\n",
       "      <td>28.7</td>\n",
       "      <td>0.0</td>\n",
       "    </tr>\n",
       "    <tr>\n",
       "      <th>05-01-1990</th>\n",
       "      <td>25.5</td>\n",
       "      <td>20.7</td>\n",
       "      <td>28.4</td>\n",
       "      <td>0.0</td>\n",
       "    </tr>\n",
       "    <tr>\n",
       "      <th>...</th>\n",
       "      <td>...</td>\n",
       "      <td>...</td>\n",
       "      <td>...</td>\n",
       "      <td>...</td>\n",
       "    </tr>\n",
       "    <tr>\n",
       "      <th>21-07-2022</th>\n",
       "      <td>28.4</td>\n",
       "      <td>24.5</td>\n",
       "      <td>32.8</td>\n",
       "      <td>21.1</td>\n",
       "    </tr>\n",
       "    <tr>\n",
       "      <th>22-07-2022</th>\n",
       "      <td>27.8</td>\n",
       "      <td>24.6</td>\n",
       "      <td>32.2</td>\n",
       "      <td>22.1</td>\n",
       "    </tr>\n",
       "    <tr>\n",
       "      <th>23-07-2022</th>\n",
       "      <td>27.4</td>\n",
       "      <td>24.7</td>\n",
       "      <td>32.6</td>\n",
       "      <td>18.6</td>\n",
       "    </tr>\n",
       "    <tr>\n",
       "      <th>24-07-2022</th>\n",
       "      <td>27.8</td>\n",
       "      <td>25.0</td>\n",
       "      <td>33.3</td>\n",
       "      <td>9.1</td>\n",
       "    </tr>\n",
       "    <tr>\n",
       "      <th>25-07-2022</th>\n",
       "      <td>28.1</td>\n",
       "      <td>25.4</td>\n",
       "      <td>32.6</td>\n",
       "      <td>2.9</td>\n",
       "    </tr>\n",
       "  </tbody>\n",
       "</table>\n",
       "<p>11894 rows × 4 columns</p>\n",
       "</div>"
      ],
      "text/plain": [
       "            tavg  tmin  tmax  prcp\n",
       "time                              \n",
       "01-01-1990  25.2  22.8  28.4   0.5\n",
       "02-01-1990  24.9  21.7  29.1   0.0\n",
       "03-01-1990  25.6  21.4  29.8   0.0\n",
       "04-01-1990  25.7  21.4  28.7   0.0\n",
       "05-01-1990  25.5  20.7  28.4   0.0\n",
       "...          ...   ...   ...   ...\n",
       "21-07-2022  28.4  24.5  32.8  21.1\n",
       "22-07-2022  27.8  24.6  32.2  22.1\n",
       "23-07-2022  27.4  24.7  32.6  18.6\n",
       "24-07-2022  27.8  25.0  33.3   9.1\n",
       "25-07-2022  28.1  25.4  32.6   2.9\n",
       "\n",
       "[11894 rows x 4 columns]"
      ]
     },
     "execution_count": 17,
     "metadata": {},
     "output_type": "execute_result"
    }
   ],
   "source": [
    "weather"
   ]
  },
  {
   "cell_type": "code",
   "execution_count": 18,
   "id": "9f779c66-3600-4264-8445-04c7f751be80",
   "metadata": {},
   "outputs": [
    {
     "data": {
      "text/plain": [
       "tavg    0.0\n",
       "tmin    0.0\n",
       "tmax    0.0\n",
       "prcp    0.0\n",
       "dtype: float64"
      ]
     },
     "execution_count": 18,
     "metadata": {},
     "output_type": "execute_result"
    }
   ],
   "source": [
    "weather.apply(pd.isnull).sum()/weather.shape[0]"
   ]
  },
  {
   "cell_type": "code",
   "execution_count": 19,
   "id": "f5450652-0fbb-494f-9d27-8c3f999d755b",
   "metadata": {},
   "outputs": [
    {
     "data": {
      "text/plain": [
       "Index(['01-01-1990', '02-01-1990', '03-01-1990', '04-01-1990', '05-01-1990',\n",
       "       '06-01-1990', '07-01-1990', '08-01-1990', '09-01-1990', '10-01-1990',\n",
       "       ...\n",
       "       '16-07-2022', '17-07-2022', '18-07-2022', '19-07-2022', '20-07-2022',\n",
       "       '21-07-2022', '22-07-2022', '23-07-2022', '24-07-2022', '25-07-2022'],\n",
       "      dtype='object', name='time', length=11894)"
      ]
     },
     "execution_count": 19,
     "metadata": {},
     "output_type": "execute_result"
    }
   ],
   "source": [
    "weather.index"
   ]
  },
  {
   "cell_type": "code",
   "execution_count": 22,
   "id": "0529c009-eeeb-4749-94ba-42144bd8745c",
   "metadata": {},
   "outputs": [],
   "source": [
    "weather.index = pd.to_datetime(weather.index, dayfirst=True)"
   ]
  },
  {
   "cell_type": "code",
   "execution_count": 23,
   "id": "95d0a798-b94f-4e50-8172-286364fc2d0a",
   "metadata": {},
   "outputs": [
    {
     "data": {
      "text/plain": [
       "DatetimeIndex(['1990-01-01', '1990-02-01', '1990-03-01', '1990-04-01',\n",
       "               '1990-05-01', '1990-06-01', '1990-07-01', '1990-08-01',\n",
       "               '1990-09-01', '1990-10-01',\n",
       "               ...\n",
       "               '2022-07-16', '2022-07-17', '2022-07-18', '2022-07-19',\n",
       "               '2022-07-20', '2022-07-21', '2022-07-22', '2022-07-23',\n",
       "               '2022-07-24', '2022-07-25'],\n",
       "              dtype='datetime64[ns]', name='time', length=11894, freq=None)"
      ]
     },
     "execution_count": 23,
     "metadata": {},
     "output_type": "execute_result"
    }
   ],
   "source": [
    "weather.index"
   ]
  },
  {
   "cell_type": "code",
   "execution_count": 25,
   "id": "9326fefd-b322-4f89-bc57-cbc5e7ba9aff",
   "metadata": {},
   "outputs": [
    {
     "data": {
      "text/plain": [
       "tavg    0\n",
       "tmin    0\n",
       "tmax    0\n",
       "prcp    0\n",
       "dtype: int64"
      ]
     },
     "execution_count": 25,
     "metadata": {},
     "output_type": "execute_result"
    }
   ],
   "source": [
    "weather.apply(lambda x: (x==9999).sum())"
   ]
  },
  {
   "cell_type": "code",
   "execution_count": 26,
   "id": "31910d6c-635c-4c4b-af27-8596076c09cf",
   "metadata": {},
   "outputs": [
    {
     "data": {
      "text/plain": [
       "<Axes: xlabel='time'>"
      ]
     },
     "execution_count": 26,
     "metadata": {},
     "output_type": "execute_result"
    },
    {
     "data": {
      "image/png": "[encoded data removed]",
      "text/plain": [
       "<Figure size 640x480 with 1 Axes>"
      ]
     },
     "metadata": {},
     "output_type": "display_data"
    }
   ],
   "source": [
    "weather[[\"tmax\",\"tmin\"]].plot()"
   ]
  },
  {
   "cell_type": "code",
   "execution_count": 27,
   "id": "567f7045-54db-4501-9856-563580e1d943",
   "metadata": {},
   "outputs": [
    {
     "data": {
      "text/plain": [
       "<Axes: xlabel='time'>"
      ]
     },
     "execution_count": 27,
     "metadata": {},
     "output_type": "execute_result"
    },
    {
     "data": {
      "image/png": "[encoded data removed]",
      "text/plain": [
       "<Figure size 640x480 with 1 Axes>"
      ]
     },
     "metadata": {},
     "output_type": "display_data"
    }
   ],
   "source": [
    "weather[\"prcp\"].plot()"
   ]
  },
  {
   "cell_type": "code",
   "execution_count": 28,
   "id": "c1e91874-ba74-455c-99f0-9531c0b77ea8",
   "metadata": {},
   "outputs": [],
   "source": [
    "weather[\"target\"] = weather.shift(-1)[\"tmax\"]"
   ]
  },
  {
   "cell_type": "code",
   "execution_count": 29,
   "id": "bcef979e-8d97-42fa-8122-b50aab8fc741",
   "metadata": {},
   "outputs": [
    {
     "data": {
      "text/html": [
       "<div>\n",
       "<style scoped>\n",
       "    .dataframe tbody tr th:only-of-type {\n",
       "        vertical-align: middle;\n",
       "    }\n",
       "\n",
       "    .dataframe tbody tr th {\n",
       "        vertical-align: top;\n",
       "    }\n",
       "\n",
       "    .dataframe thead th {\n",
       "        text-align: right;\n",
       "    }\n",
       "</style>\n",
       "<table border=\"1\" class=\"dataframe\">\n",
       "  <thead>\n",
       "    <tr style=\"text-align: right;\">\n",
       "      <th></th>\n",
       "      <th>tavg</th>\n",
       "      <th>tmin</th>\n",
       "      <th>tmax</th>\n",
       "      <th>prcp</th>\n",
       "      <th>target</th>\n",
       "    </tr>\n",
       "    <tr>\n",
       "      <th>time</th>\n",
       "      <th></th>\n",
       "      <th></th>\n",
       "      <th></th>\n",
       "      <th></th>\n",
       "      <th></th>\n",
       "    </tr>\n",
       "  </thead>\n",
       "  <tbody>\n",
       "    <tr>\n",
       "      <th>1990-01-01</th>\n",
       "      <td>25.2</td>\n",
       "      <td>22.8</td>\n",
       "      <td>28.4</td>\n",
       "      <td>0.5</td>\n",
       "      <td>29.1</td>\n",
       "    </tr>\n",
       "    <tr>\n",
       "      <th>1990-02-01</th>\n",
       "      <td>24.9</td>\n",
       "      <td>21.7</td>\n",
       "      <td>29.1</td>\n",
       "      <td>0.0</td>\n",
       "      <td>29.8</td>\n",
       "    </tr>\n",
       "    <tr>\n",
       "      <th>1990-03-01</th>\n",
       "      <td>25.6</td>\n",
       "      <td>21.4</td>\n",
       "      <td>29.8</td>\n",
       "      <td>0.0</td>\n",
       "      <td>28.7</td>\n",
       "    </tr>\n",
       "    <tr>\n",
       "      <th>1990-04-01</th>\n",
       "      <td>25.7</td>\n",
       "      <td>21.4</td>\n",
       "      <td>28.7</td>\n",
       "      <td>0.0</td>\n",
       "      <td>28.4</td>\n",
       "    </tr>\n",
       "    <tr>\n",
       "      <th>1990-05-01</th>\n",
       "      <td>25.5</td>\n",
       "      <td>20.7</td>\n",
       "      <td>28.4</td>\n",
       "      <td>0.0</td>\n",
       "      <td>26.1</td>\n",
       "    </tr>\n",
       "    <tr>\n",
       "      <th>...</th>\n",
       "      <td>...</td>\n",
       "      <td>...</td>\n",
       "      <td>...</td>\n",
       "      <td>...</td>\n",
       "      <td>...</td>\n",
       "    </tr>\n",
       "    <tr>\n",
       "      <th>2022-07-21</th>\n",
       "      <td>28.4</td>\n",
       "      <td>24.5</td>\n",
       "      <td>32.8</td>\n",
       "      <td>21.1</td>\n",
       "      <td>32.2</td>\n",
       "    </tr>\n",
       "    <tr>\n",
       "      <th>2022-07-22</th>\n",
       "      <td>27.8</td>\n",
       "      <td>24.6</td>\n",
       "      <td>32.2</td>\n",
       "      <td>22.1</td>\n",
       "      <td>32.6</td>\n",
       "    </tr>\n",
       "    <tr>\n",
       "      <th>2022-07-23</th>\n",
       "      <td>27.4</td>\n",
       "      <td>24.7</td>\n",
       "      <td>32.6</td>\n",
       "      <td>18.6</td>\n",
       "      <td>33.3</td>\n",
       "    </tr>\n",
       "    <tr>\n",
       "      <th>2022-07-24</th>\n",
       "      <td>27.8</td>\n",
       "      <td>25.0</td>\n",
       "      <td>33.3</td>\n",
       "      <td>9.1</td>\n",
       "      <td>32.6</td>\n",
       "    </tr>\n",
       "    <tr>\n",
       "      <th>2022-07-25</th>\n",
       "      <td>28.1</td>\n",
       "      <td>25.4</td>\n",
       "      <td>32.6</td>\n",
       "      <td>2.9</td>\n",
       "      <td>NaN</td>\n",
       "    </tr>\n",
       "  </tbody>\n",
       "</table>\n",
       "<p>11894 rows × 5 columns</p>\n",
       "</div>"
      ],
      "text/plain": [
       "            tavg  tmin  tmax  prcp  target\n",
       "time                                      \n",
       "1990-01-01  25.2  22.8  28.4   0.5    29.1\n",
       "1990-02-01  24.9  21.7  29.1   0.0    29.8\n",
       "1990-03-01  25.6  21.4  29.8   0.0    28.7\n",
       "1990-04-01  25.7  21.4  28.7   0.0    28.4\n",
       "1990-05-01  25.5  20.7  28.4   0.0    26.1\n",
       "...          ...   ...   ...   ...     ...\n",
       "2022-07-21  28.4  24.5  32.8  21.1    32.2\n",
       "2022-07-22  27.8  24.6  32.2  22.1    32.6\n",
       "2022-07-23  27.4  24.7  32.6  18.6    33.3\n",
       "2022-07-24  27.8  25.0  33.3   9.1    32.6\n",
       "2022-07-25  28.1  25.4  32.6   2.9     NaN\n",
       "\n",
       "[11894 rows x 5 columns]"
      ]
     },
     "execution_count": 29,
     "metadata": {},
     "output_type": "execute_result"
    }
   ],
   "source": [
    "weather"
   ]
  },
  {
   "cell_type": "code",
   "execution_count": 30,
   "id": "ef45fa22-cc2f-4217-bbad-36ce48a6b6a0",
   "metadata": {},
   "outputs": [],
   "source": [
    "weather = weather.iloc[:-1,:].copy()"
   ]
  },
  {
   "cell_type": "code",
   "execution_count": 31,
   "id": "5461a002-cec1-4a54-96d0-96e93546fa95",
   "metadata": {},
   "outputs": [
    {
     "data": {
      "text/html": [
       "<div>\n",
       "<style scoped>\n",
       "    .dataframe tbody tr th:only-of-type {\n",
       "        vertical-align: middle;\n",
       "    }\n",
       "\n",
       "    .dataframe tbody tr th {\n",
       "        vertical-align: top;\n",
       "    }\n",
       "\n",
       "    .dataframe thead th {\n",
       "        text-align: right;\n",
       "    }\n",
       "</style>\n",
       "<table border=\"1\" class=\"dataframe\">\n",
       "  <thead>\n",
       "    <tr style=\"text-align: right;\">\n",
       "      <th></th>\n",
       "      <th>tavg</th>\n",
       "      <th>tmin</th>\n",
       "      <th>tmax</th>\n",
       "      <th>prcp</th>\n",
       "      <th>target</th>\n",
       "    </tr>\n",
       "    <tr>\n",
       "      <th>time</th>\n",
       "      <th></th>\n",
       "      <th></th>\n",
       "      <th></th>\n",
       "      <th></th>\n",
       "      <th></th>\n",
       "    </tr>\n",
       "  </thead>\n",
       "  <tbody>\n",
       "    <tr>\n",
       "      <th>1990-01-01</th>\n",
       "      <td>25.2</td>\n",
       "      <td>22.8</td>\n",
       "      <td>28.4</td>\n",
       "      <td>0.5</td>\n",
       "      <td>29.1</td>\n",
       "    </tr>\n",
       "    <tr>\n",
       "      <th>1990-02-01</th>\n",
       "      <td>24.9</td>\n",
       "      <td>21.7</td>\n",
       "      <td>29.1</td>\n",
       "      <td>0.0</td>\n",
       "      <td>29.8</td>\n",
       "    </tr>\n",
       "    <tr>\n",
       "      <th>1990-03-01</th>\n",
       "      <td>25.6</td>\n",
       "      <td>21.4</td>\n",
       "      <td>29.8</td>\n",
       "      <td>0.0</td>\n",
       "      <td>28.7</td>\n",
       "    </tr>\n",
       "    <tr>\n",
       "      <th>1990-04-01</th>\n",
       "      <td>25.7</td>\n",
       "      <td>21.4</td>\n",
       "      <td>28.7</td>\n",
       "      <td>0.0</td>\n",
       "      <td>28.4</td>\n",
       "    </tr>\n",
       "    <tr>\n",
       "      <th>1990-05-01</th>\n",
       "      <td>25.5</td>\n",
       "      <td>20.7</td>\n",
       "      <td>28.4</td>\n",
       "      <td>0.0</td>\n",
       "      <td>26.1</td>\n",
       "    </tr>\n",
       "    <tr>\n",
       "      <th>...</th>\n",
       "      <td>...</td>\n",
       "      <td>...</td>\n",
       "      <td>...</td>\n",
       "      <td>...</td>\n",
       "      <td>...</td>\n",
       "    </tr>\n",
       "    <tr>\n",
       "      <th>2022-07-20</th>\n",
       "      <td>28.9</td>\n",
       "      <td>26.2</td>\n",
       "      <td>33.0</td>\n",
       "      <td>9.3</td>\n",
       "      <td>32.8</td>\n",
       "    </tr>\n",
       "    <tr>\n",
       "      <th>2022-07-21</th>\n",
       "      <td>28.4</td>\n",
       "      <td>24.5</td>\n",
       "      <td>32.8</td>\n",
       "      <td>21.1</td>\n",
       "      <td>32.2</td>\n",
       "    </tr>\n",
       "    <tr>\n",
       "      <th>2022-07-22</th>\n",
       "      <td>27.8</td>\n",
       "      <td>24.6</td>\n",
       "      <td>32.2</td>\n",
       "      <td>22.1</td>\n",
       "      <td>32.6</td>\n",
       "    </tr>\n",
       "    <tr>\n",
       "      <th>2022-07-23</th>\n",
       "      <td>27.4</td>\n",
       "      <td>24.7</td>\n",
       "      <td>32.6</td>\n",
       "      <td>18.6</td>\n",
       "      <td>33.3</td>\n",
       "    </tr>\n",
       "    <tr>\n",
       "      <th>2022-07-24</th>\n",
       "      <td>27.8</td>\n",
       "      <td>25.0</td>\n",
       "      <td>33.3</td>\n",
       "      <td>9.1</td>\n",
       "      <td>32.6</td>\n",
       "    </tr>\n",
       "  </tbody>\n",
       "</table>\n",
       "<p>11893 rows × 5 columns</p>\n",
       "</div>"
      ],
      "text/plain": [
       "            tavg  tmin  tmax  prcp  target\n",
       "time                                      \n",
       "1990-01-01  25.2  22.8  28.4   0.5    29.1\n",
       "1990-02-01  24.9  21.7  29.1   0.0    29.8\n",
       "1990-03-01  25.6  21.4  29.8   0.0    28.7\n",
       "1990-04-01  25.7  21.4  28.7   0.0    28.4\n",
       "1990-05-01  25.5  20.7  28.4   0.0    26.1\n",
       "...          ...   ...   ...   ...     ...\n",
       "2022-07-20  28.9  26.2  33.0   9.3    32.8\n",
       "2022-07-21  28.4  24.5  32.8  21.1    32.2\n",
       "2022-07-22  27.8  24.6  32.2  22.1    32.6\n",
       "2022-07-23  27.4  24.7  32.6  18.6    33.3\n",
       "2022-07-24  27.8  25.0  33.3   9.1    32.6\n",
       "\n",
       "[11893 rows x 5 columns]"
      ]
     },
     "execution_count": 31,
     "metadata": {},
     "output_type": "execute_result"
    }
   ],
   "source": [
    "weather"
   ]
  },
  {
   "cell_type": "code",
   "execution_count": 32,
   "id": "9d59b033-3ab3-4312-81b2-931cbe9adebc",
   "metadata": {},
   "outputs": [],
   "source": [
    "from sklearn.linear_model import Ridge\n",
    "reg = Ridge(alpha = 0.1)"
   ]
  },
  {
   "cell_type": "code",
   "execution_count": 33,
   "id": "e5c55a3a-807f-4c9a-9ad5-558b81910937",
   "metadata": {},
   "outputs": [],
   "source": [
    "predictors = [\"prcp\", \"tmax\", \"tmin\"]"
   ]
  },
  {
   "cell_type": "code",
   "execution_count": 41,
   "id": "eb56080f-da55-480d-9c7f-0e0812997310",
   "metadata": {},
   "outputs": [
    {
     "name": "stderr",
     "output_type": "stream",
     "text": [
      "C:\\Users\\KIIT\\AppData\\Local\\Temp\\ipykernel_6424\\1366750115.py:1: UserWarning: Parsing dates in DD/MM/YYYY format when dayfirst=False (the default) was specified. This may lead to inconsistently parsed dates! Specify a format to ensure consistent parsing.\n",
      "  train = weather.loc[:\"31-12-2020\"]\n"
     ]
    }
   ],
   "source": [
    "train = weather.loc[:\"31-12-2020\"]\n",
    "test = weather.loc[\"01-01-2021\":]"
   ]
  },
  {
   "cell_type": "code",
   "execution_count": 42,
   "id": "d4ec6108-45dc-4a9e-8cc9-6862f890c66d",
   "metadata": {},
   "outputs": [
    {
     "data": {
      "text/html": [
       "<style>#sk-container-id-1 {color: black;background-color: white;}#sk-container-id-1 pre{padding: 0;}#sk-container-id-1 div.sk-toggleable {background-color: white;}#sk-container-id-1 label.sk-toggleable__label {cursor: pointer;display: block;width: 100%;margin-bottom: 0;padding: 0.3em;box-sizing: border-box;text-align: center;}#sk-container-id-1 label.sk-toggleable__label-arrow:before {content: \"▸\";float: left;margin-right: 0.25em;color: #696969;}#sk-container-id-1 label.sk-toggleable__label-arrow:hover:before {color: black;}#sk-container-id-1 div.sk-estimator:hover label.sk-toggleable__label-arrow:before {color: black;}#sk-container-id-1 div.sk-toggleable__content {max-height: 0;max-width: 0;overflow: hidden;text-align: left;background-color: #f0f8ff;}#sk-container-id-1 div.sk-toggleable__content pre {margin: 0.2em;color: black;border-radius: 0.25em;background-color: #f0f8ff;}#sk-container-id-1 input.sk-toggleable__control:checked~div.sk-toggleable__content {max-height: 200px;max-width: 100%;overflow: auto;}#sk-container-id-1 input.sk-toggleable__control:checked~label.sk-toggleable__label-arrow:before {content: \"▾\";}#sk-container-id-1 div.sk-estimator input.sk-toggleable__control:checked~label.sk-toggleable__label {background-color: #d4ebff;}#sk-container-id-1 div.sk-label input.sk-toggleable__control:checked~label.sk-toggleable__label {background-color: #d4ebff;}#sk-container-id-1 input.sk-hidden--visually {border: 0;clip: rect(1px 1px 1px 1px);clip: rect(1px, 1px, 1px, 1px);height: 1px;margin: -1px;overflow: hidden;padding: 0;position: absolute;width: 1px;}#sk-container-id-1 div.sk-estimator {font-family: monospace;background-color: #f0f8ff;border: 1px dotted black;border-radius: 0.25em;box-sizing: border-box;margin-bottom: 0.5em;}#sk-container-id-1 div.sk-estimator:hover {background-color: #d4ebff;}#sk-container-id-1 div.sk-parallel-item::after {content: \"\";width: 100%;border-bottom: 1px solid gray;flex-grow: 1;}#sk-container-id-1 div.sk-label:hover label.sk-toggleable__label {background-color: #d4ebff;}#sk-container-id-1 div.sk-serial::before {content: \"\";position: absolute;border-left: 1px solid gray;box-sizing: border-box;top: 0;bottom: 0;left: 50%;z-index: 0;}#sk-container-id-1 div.sk-serial {display: flex;flex-direction: column;align-items: center;background-color: white;padding-right: 0.2em;padding-left: 0.2em;position: relative;}#sk-container-id-1 div.sk-item {position: relative;z-index: 1;}#sk-container-id-1 div.sk-parallel {display: flex;align-items: stretch;justify-content: center;background-color: white;position: relative;}#sk-container-id-1 div.sk-item::before, #sk-container-id-1 div.sk-parallel-item::before {content: \"\";position: absolute;border-left: 1px solid gray;box-sizing: border-box;top: 0;bottom: 0;left: 50%;z-index: -1;}#sk-container-id-1 div.sk-parallel-item {display: flex;flex-direction: column;z-index: 1;position: relative;background-color: white;}#sk-container-id-1 div.sk-parallel-item:first-child::after {align-self: flex-end;width: 50%;}#sk-container-id-1 div.sk-parallel-item:last-child::after {align-self: flex-start;width: 50%;}#sk-container-id-1 div.sk-parallel-item:only-child::after {width: 0;}#sk-container-id-1 div.sk-dashed-wrapped {border: 1px dashed gray;margin: 0 0.4em 0.5em 0.4em;box-sizing: border-box;padding-bottom: 0.4em;background-color: white;}#sk-container-id-1 div.sk-label label {font-family: monospace;font-weight: bold;display: inline-block;line-height: 1.2em;}#sk-container-id-1 div.sk-label-container {text-align: center;}#sk-container-id-1 div.sk-container {/* jupyter's `normalize.less` sets `[hidden] { display: none; }` but bootstrap.min.css set `[hidden] { display: none !important; }` so we also need the `!important` here to be able to override the default hidden behavior on the sphinx rendered scikit-learn.org. See: https://github.com/scikit-learn/scikit-learn/issues/21755 */display: inline-block !important;position: relative;}#sk-container-id-1 div.sk-text-repr-fallback {display: none;}</style><div id=\"sk-container-id-1\" class=\"sk-top-container\"><div class=\"sk-text-repr-fallback\"><pre>Ridge(alpha=0.1)</pre><b>In a Jupyter environment, please rerun this cell to show the HTML representation or trust the notebook. <br />On GitHub, the HTML representation is unable to render, please try loading this page with nbviewer.org.</b></div><div class=\"sk-container\" hidden><div class=\"sk-item\"><div class=\"sk-estimator sk-toggleable\"><input class=\"sk-toggleable__control sk-hidden--visually\" id=\"sk-estimator-id-1\" type=\"checkbox\" checked><label for=\"sk-estimator-id-1\" class=\"sk-toggleable__label sk-toggleable__label-arrow\">Ridge</label><div class=\"sk-toggleable__content\"><pre>Ridge(alpha=0.1)</pre></div></div></div></div></div>"
      ],
      "text/plain": [
       "Ridge(alpha=0.1)"
      ]
     },
     "execution_count": 42,
     "metadata": {},
     "output_type": "execute_result"
    }
   ],
   "source": [
    "reg.fit(train[predictors], train[\"target\"])"
   ]
  },
  {
   "cell_type": "code",
   "execution_count": 43,
   "id": "6ff34abf-9338-4bb6-b4af-1af8fa44f225",
   "metadata": {},
   "outputs": [],
   "source": [
    "predictions = reg.predict(test[predictors])"
   ]
  },
  {
   "cell_type": "code",
   "execution_count": 44,
   "id": "a146c34e-c21c-49d8-9887-6940c88871da",
   "metadata": {},
   "outputs": [],
   "source": [
    "from sklearn.metrics import mean_absolute_error"
   ]
  },
  {
   "cell_type": "code",
   "execution_count": 45,
   "id": "07dc28b6-b8bd-43bb-98ee-fd5ba46f52e9",
   "metadata": {},
   "outputs": [
    {
     "data": {
      "text/plain": [
       "0.8331897488960354"
      ]
     },
     "execution_count": 45,
     "metadata": {},
     "output_type": "execute_result"
    }
   ],
   "source": [
    "mean_absolute_error(test[\"target\"], predictions)"
   ]
  },
  {
   "cell_type": "code",
   "execution_count": 46,
   "id": "dd2f1a4d-8f95-4ff3-a00f-2e6cf98938dc",
   "metadata": {},
   "outputs": [],
   "source": [
    "combined = pd.concat([test[\"target\"], pd.Series(predictions, index = test.index)], axis=1)"
   ]
  },
  {
   "cell_type": "code",
   "execution_count": 48,
   "id": "748b0434-3a92-4ad9-8619-3156873d435c",
   "metadata": {},
   "outputs": [],
   "source": [
    "combined.columns = [\"actual\", \"predictions\"]"
   ]
  },
  {
   "cell_type": "code",
   "execution_count": 49,
   "id": "9a243c0a-2dd8-4d8e-8993-e221efd30e57",
   "metadata": {},
   "outputs": [
    {
     "data": {
      "text/html": [
       "<div>\n",
       "<style scoped>\n",
       "    .dataframe tbody tr th:only-of-type {\n",
       "        vertical-align: middle;\n",
       "    }\n",
       "\n",
       "    .dataframe tbody tr th {\n",
       "        vertical-align: top;\n",
       "    }\n",
       "\n",
       "    .dataframe thead th {\n",
       "        text-align: right;\n",
       "    }\n",
       "</style>\n",
       "<table border=\"1\" class=\"dataframe\">\n",
       "  <thead>\n",
       "    <tr style=\"text-align: right;\">\n",
       "      <th></th>\n",
       "      <th>actual</th>\n",
       "      <th>predictions</th>\n",
       "    </tr>\n",
       "    <tr>\n",
       "      <th>time</th>\n",
       "      <th></th>\n",
       "      <th></th>\n",
       "    </tr>\n",
       "  </thead>\n",
       "  <tbody>\n",
       "    <tr>\n",
       "      <th>2021-01-01</th>\n",
       "      <td>25.4</td>\n",
       "      <td>30.214931</td>\n",
       "    </tr>\n",
       "    <tr>\n",
       "      <th>2021-02-01</th>\n",
       "      <td>27.8</td>\n",
       "      <td>26.663124</td>\n",
       "    </tr>\n",
       "    <tr>\n",
       "      <th>2021-03-01</th>\n",
       "      <td>28.6</td>\n",
       "      <td>28.654549</td>\n",
       "    </tr>\n",
       "    <tr>\n",
       "      <th>2021-04-01</th>\n",
       "      <td>26.8</td>\n",
       "      <td>29.231413</td>\n",
       "    </tr>\n",
       "    <tr>\n",
       "      <th>2021-05-01</th>\n",
       "      <td>28.6</td>\n",
       "      <td>27.900326</td>\n",
       "    </tr>\n",
       "    <tr>\n",
       "      <th>...</th>\n",
       "      <td>...</td>\n",
       "      <td>...</td>\n",
       "    </tr>\n",
       "    <tr>\n",
       "      <th>2022-07-20</th>\n",
       "      <td>32.8</td>\n",
       "      <td>33.418474</td>\n",
       "    </tr>\n",
       "    <tr>\n",
       "      <th>2022-07-21</th>\n",
       "      <td>32.2</td>\n",
       "      <td>33.022400</td>\n",
       "    </tr>\n",
       "    <tr>\n",
       "      <th>2022-07-22</th>\n",
       "      <td>32.6</td>\n",
       "      <td>32.539609</td>\n",
       "    </tr>\n",
       "    <tr>\n",
       "      <th>2022-07-23</th>\n",
       "      <td>33.3</td>\n",
       "      <td>32.881089</td>\n",
       "    </tr>\n",
       "    <tr>\n",
       "      <th>2022-07-24</th>\n",
       "      <td>32.6</td>\n",
       "      <td>33.491233</td>\n",
       "    </tr>\n",
       "  </tbody>\n",
       "</table>\n",
       "<p>570 rows × 2 columns</p>\n",
       "</div>"
      ],
      "text/plain": [
       "            actual  predictions\n",
       "time                           \n",
       "2021-01-01    25.4    30.214931\n",
       "2021-02-01    27.8    26.663124\n",
       "2021-03-01    28.6    28.654549\n",
       "2021-04-01    26.8    29.231413\n",
       "2021-05-01    28.6    27.900326\n",
       "...            ...          ...\n",
       "2022-07-20    32.8    33.418474\n",
       "2022-07-21    32.2    33.022400\n",
       "2022-07-22    32.6    32.539609\n",
       "2022-07-23    33.3    32.881089\n",
       "2022-07-24    32.6    33.491233\n",
       "\n",
       "[570 rows x 2 columns]"
      ]
     },
     "execution_count": 49,
     "metadata": {},
     "output_type": "execute_result"
    }
   ],
   "source": [
    "combined"
   ]
  },
  {
   "cell_type": "code",
   "execution_count": 50,
   "id": "0f900099-6284-4994-93b7-20b6e3604166",
   "metadata": {},
   "outputs": [
    {
     "data": {
      "text/plain": [
       "<Axes: xlabel='time'>"
      ]
     },
     "execution_count": 50,
     "metadata": {},
     "output_type": "execute_result"
    },
    {
     "data": {
      "image/png": "[encoded data removed]",
      "text/plain": [
       "<Figure size 640x480 with 1 Axes>"
      ]
     },
     "metadata": {},
     "output_type": "display_data"
    }
   ],
   "source": [
    "combined.plot()"
   ]
  },
  {
   "cell_type": "code",
   "execution_count": 51,
   "id": "c49eff0a-d047-4633-9413-99a6b27cac57",
   "metadata": {},
   "outputs": [
    {
     "data": {
      "text/plain": [
       "array([0.00172807, 0.83204726, 0.14709154])"
      ]
     },
     "execution_count": 51,
     "metadata": {},
     "output_type": "execute_result"
    }
   ],
   "source": [
    "reg.coef_"
   ]
  },
  {
   "cell_type": "code",
   "execution_count": 55,
   "id": "9b5114d1-0446-4002-a2a0-fa9139327399",
   "metadata": {},
   "outputs": [],
   "source": [
    "def create_predictions(predictors, weather, reg):\n",
    "    train = weather.loc[:\"31-12-2020\"]\n",
    "    test = weather.loc[\"01-01-2021\":]\n",
    "    reg.fit(train[predictors],train[\"target\"])\n",
    "    predictions = reg.predict(test[predictors])\n",
    "    error = mean_absolute_error(test[\"target\"], predictions)\n",
    "    combined = pd.concat([test[\"target\"], pd.Series(predictions, index = test.index)], axis=1)\n",
    "    combined.columns = [\"actual\", \"predictions\"]\n",
    "    return error, combined"
   ]
  },
  {
   "cell_type": "code",
   "execution_count": 56,
   "id": "0ad6b2a6-a74a-49a4-8b80-9ca1c21c1dd8",
   "metadata": {},
   "outputs": [],
   "source": [
    "predictors = [\"prcp\", \"tmax\", \"tavg\", \"tmin\"]"
   ]
  },
  {
   "cell_type": "code",
   "execution_count": 57,
   "id": "0abc322b-4fd9-4653-9ef5-e7cac4a98aaa",
   "metadata": {},
   "outputs": [
    {
     "name": "stderr",
     "output_type": "stream",
     "text": [
      "C:\\Users\\KIIT\\AppData\\Local\\Temp\\ipykernel_6424\\2835396098.py:2: UserWarning: Parsing dates in DD/MM/YYYY format when dayfirst=False (the default) was specified. This may lead to inconsistently parsed dates! Specify a format to ensure consistent parsing.\n",
      "  train = weather.loc[:\"31-12-2020\"]\n"
     ]
    }
   ],
   "source": [
    "error, combined = create_predictions(predictors, weather, reg)"
   ]
  },
  {
   "cell_type": "code",
   "execution_count": 58,
   "id": "25285a1a-42db-495c-a5d9-57cc8c5bea9d",
   "metadata": {},
   "outputs": [
    {
     "data": {
      "text/plain": [
       "0.793372939394215"
      ]
     },
     "execution_count": 58,
     "metadata": {},
     "output_type": "execute_result"
    }
   ],
   "source": [
    "error"
   ]
  },
  {
   "cell_type": "code",
   "execution_count": 59,
   "id": "858120e4-77aa-4026-83b8-0b400115aec1",
   "metadata": {},
   "outputs": [
    {
     "data": {
      "text/plain": [
       "<Axes: xlabel='time'>"
      ]
     },
     "execution_count": 59,
     "metadata": {},
     "output_type": "execute_result"
    },
    {
     "data": {
      "image/png": "[encoded data removed]",
      "text/plain": [
       "<Figure size 640x480 with 1 Axes>"
      ]
     },
     "metadata": {},
     "output_type": "display_data"
    }
   ],
   "source": [
    "combined.plot()"
   ]
  },
  {
   "cell_type": "code",
   "execution_count": null,
   "id": "c239d12c-0432-4274-933f-4e9b4317da6a",
   "metadata": {},
   "outputs": [],
   "source": []
  }
 ],
 "metadata": {
  "kernelspec": {
   "display_name": "Python 3 (ipykernel)",
   "language": "python",
   "name": "python3"
  },
  "language_info": {
   "codemirror_mode": {
    "name": "ipython",
    "version": 3
   },
   "file_extension": ".py",
   "mimetype": "text/x-python",
   "name": "python",
   "nbconvert_exporter": "python",
   "pygments_lexer": "ipython3",
   "version": "3.10.9"
  }
 },
 "nbformat": 4,
 "nbformat_minor": 5
}
